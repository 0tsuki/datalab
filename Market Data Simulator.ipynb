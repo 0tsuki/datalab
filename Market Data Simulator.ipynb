{
 "cells": [
  {
   "cell_type": "markdown",
   "metadata": {},
   "source": [
    "# Market Data Simulator"
   ]
  },
  {
   "cell_type": "markdown",
   "metadata": {},
   "source": [
    "Do you ever need some market data tp try something out?  I do quite often.  About half the time I go to one of the marketplaces for data that are becoming super-super-useful in this regard, and about half the time I'll craft some data to fit the purpose.  This notebook crafts market data with a configurable look-and-feel for a given time range.  Therein lies the intent of the notebook, in this case I want data that looks and feels like FX market data and, in the first instance, I don't care about the properties of the data as much as I care about having a reasonable frequency of ticks for a given time range.\n",
    "\n",
    "The end result is data that looks fine when plotted, is fine to analyze and quick to produce (6 months data in ~45 seconds).\n",
    "\n",
    "Feel free to have fun..."
   ]
  },
  {
   "cell_type": "code",
   "execution_count": 119,
   "metadata": {
    "collapsed": true
   },
   "outputs": [],
   "source": [
    "import random\n",
    "import datetime\n",
    "import pandas as pd"
   ]
  },
  {
   "cell_type": "code",
   "execution_count": 120,
   "metadata": {
    "collapsed": false
   },
   "outputs": [],
   "source": [
    "# Starting point for the mid price.\n",
    "STARTING_MID = 150.0\n",
    "\n",
    "# Minimum value for the mid price.  \n",
    "# N.B. If the random movement of the mid price falls below this minimum \n",
    "# we'll reset it to the minimum which will effectively make it bounce \n",
    "# off the minimum.\n",
    "MIN_MID = 50.0\n",
    "\n",
    "# Starting point for the spread.\n",
    "STARTING_SPREAD = 2.0\n",
    "\n",
    "# Minimum and maximum values for the spread.\n",
    "# N.B. If the random movement of the spread passes the minimum or maximum\n",
    "# we'll resent to the appropriate value which will effectively make it bounce\n",
    "# off these boundaries.\n",
    "MIN_SPREAD = 0.01\n",
    "# Maximum spread should be greater than STARTING_SPREAD\n",
    "MAX_SPREAD = 3.0\n",
    "\n",
    "TIME_FORMAT = '%m/%d/%y %H:%M:%S.%f'\n",
    "\n",
    "# Start and end time.\n",
    "START_TIME = '1/1/15 00:00:00.000'\n",
    "FINISH_TIME = '1/2/15 00:00:00.000'\n",
    "\n",
    "# Time deltas.  At each point we'll choose a delta from this list.\n",
    "# I chose this style of randomization to control the frequency of the ticks such \n",
    "# that the data looks more EBS or Reuters style than it does Currenex style.\n",
    "# This style makes manipulation/analysis somewhat easier.\n",
    "TIME_DELTAS = [\n",
    "  datetime.timedelta(milliseconds=1000), \n",
    "  datetime.timedelta(milliseconds=2000), \n",
    "  datetime.timedelta(milliseconds=4000), \n",
    "  datetime.timedelta(milliseconds=6000), \n",
    "  datetime.timedelta(milliseconds=8000), \n",
    "  datetime.timedelta(milliseconds=10000)]"
   ]
  },
  {
   "cell_type": "code",
   "execution_count": 121,
   "metadata": {
    "collapsed": false
   },
   "outputs": [],
   "source": [
    "start_datetime = datetime.datetime.strptime(START_TIME, TIME_FORMAT)\n",
    "finish_datetime = datetime.datetime.strptime(FINISH_TIME, TIME_FORMAT)\n",
    "\n",
    "current_mid = STARTING_MID\n",
    "current_spread = STARTING_SPREAD\n",
    "\n",
    "# The bid and ask are calculated from the spread, equidistant from the mid with bid lower than ask.\n",
    "current_bid = current_mid - (current_spread/2)\n",
    "current_ask = current_mid + (current_spread/2)\n",
    "\n",
    "current_datetime = start_datetime\n",
    "\n",
    "market_data = pd.DataFrame(columns=['datetime', 'mid', 'spread', 'bid', 'ask'])\n",
    "\n",
    "# Using a list of rows (that get appended to the dataframe at the end) because it's much faster than appending each time.\n",
    "rows_list = []\n",
    "rows_list.append(\n",
    "  {'datetime': current_datetime,\n",
    "   'mid': current_mid,\n",
    "   'spread': current_spread,\n",
    "   'bid': current_bid,\n",
    "   'ask': current_ask\n",
    "  }\n",
    ")\n",
    "\n",
    "while True:\n",
    "  \n",
    "  # Choose a random time increment from the list of deltas.\n",
    "  time_delta = random.choice(TIME_DELTAS)\n",
    "  current_datetime = current_datetime + time_delta\n",
    "  \n",
    "  # If the incremented datetime is beyond the finish datetime break out of the loop\n",
    "  if current_datetime > finish_datetime:\n",
    "    break\n",
    "  \n",
    "  # Choose a random change to the mid.\n",
    "  mid_delta = random.normalvariate(0, 0.1)\n",
    "  current_mid = current_mid + mid_delta\n",
    "  \n",
    "  # Reset the mid to the minimum if necessary.\n",
    "  if current_mid < MIN_MID:\n",
    "    current_mid = MIN_MID\n",
    "  \n",
    "  # Choose a random change to the spread.\n",
    "  spread_delta = random.normalvariate(0, 0.1)\n",
    "  current_spread = current_spread + spread_delta\n",
    "  \n",
    "  # Reset the spread to the min/max if necessary.\n",
    "  if current_spread < MIN_SPREAD:\n",
    "    current_spread = MIN_SPREAD\n",
    "  if current_spread > MAX_SPREAD:\n",
    "    current_spread = MAX_SPREAD\n",
    "  \n",
    "  current_bid = current_mid - (current_spread/2)\n",
    "  current_ask = current_mid + (current_spread/2)\n",
    "  \n",
    "  rows_list.append(\n",
    "    {'datetime': current_datetime,\n",
    "     'mid': current_mid,\n",
    "     'spread': current_spread,\n",
    "     'bid': current_bid,\n",
    "     'ask': current_ask\n",
    "    }\n",
    "  )\n",
    "  \n",
    "# Append all rows to the dataframe and set the index at the datetime.\n",
    "market_data = market_data.append(rows_list)\n",
    "market_data = market_data.set_index('datetime')"
   ]
  },
  {
   "cell_type": "code",
   "execution_count": 122,
   "metadata": {
    "collapsed": false
   },
   "outputs": [
    {
     "data": {
      "text/html": [
       "<div>\n",
       "<table border=\"1\" class=\"dataframe\">\n",
       "  <thead>\n",
       "    <tr style=\"text-align: right;\">\n",
       "      <th></th>\n",
       "      <th>mid</th>\n",
       "      <th>spread</th>\n",
       "      <th>bid</th>\n",
       "      <th>ask</th>\n",
       "    </tr>\n",
       "  </thead>\n",
       "  <tbody>\n",
       "    <tr>\n",
       "      <th>count</th>\n",
       "      <td>16692.000000</td>\n",
       "      <td>16692.000000</td>\n",
       "      <td>16692.000000</td>\n",
       "      <td>16692.000000</td>\n",
       "    </tr>\n",
       "    <tr>\n",
       "      <th>mean</th>\n",
       "      <td>149.704732</td>\n",
       "      <td>1.378301</td>\n",
       "      <td>149.015582</td>\n",
       "      <td>150.393883</td>\n",
       "    </tr>\n",
       "    <tr>\n",
       "      <th>std</th>\n",
       "      <td>4.300030</td>\n",
       "      <td>0.850435</td>\n",
       "      <td>4.375896</td>\n",
       "      <td>4.265403</td>\n",
       "    </tr>\n",
       "    <tr>\n",
       "      <th>min</th>\n",
       "      <td>141.555374</td>\n",
       "      <td>0.010000</td>\n",
       "      <td>140.190357</td>\n",
       "      <td>142.891608</td>\n",
       "    </tr>\n",
       "    <tr>\n",
       "      <th>25%</th>\n",
       "      <td>146.636719</td>\n",
       "      <td>0.647490</td>\n",
       "      <td>145.893731</td>\n",
       "      <td>147.305358</td>\n",
       "    </tr>\n",
       "    <tr>\n",
       "      <th>50%</th>\n",
       "      <td>149.189213</td>\n",
       "      <td>1.352856</td>\n",
       "      <td>148.524332</td>\n",
       "      <td>149.823387</td>\n",
       "    </tr>\n",
       "    <tr>\n",
       "      <th>75%</th>\n",
       "      <td>151.417201</td>\n",
       "      <td>2.032018</td>\n",
       "      <td>151.057877</td>\n",
       "      <td>151.836471</td>\n",
       "    </tr>\n",
       "    <tr>\n",
       "      <th>max</th>\n",
       "      <td>160.569545</td>\n",
       "      <td>3.000000</td>\n",
       "      <td>160.273889</td>\n",
       "      <td>161.879331</td>\n",
       "    </tr>\n",
       "  </tbody>\n",
       "</table>\n",
       "</div>"
      ],
      "text/plain": [
       "                mid        spread           bid           ask\n",
       "count  16692.000000  16692.000000  16692.000000  16692.000000\n",
       "mean     149.704732      1.378301    149.015582    150.393883\n",
       "std        4.300030      0.850435      4.375896      4.265403\n",
       "min      141.555374      0.010000    140.190357    142.891608\n",
       "25%      146.636719      0.647490    145.893731    147.305358\n",
       "50%      149.189213      1.352856    148.524332    149.823387\n",
       "75%      151.417201      2.032018    151.057877    151.836471\n",
       "max      160.569545      3.000000    160.273889    161.879331"
      ]
     },
     "execution_count": 122,
     "metadata": {},
     "output_type": "execute_result"
    }
   ],
   "source": [
    "market_data.describe()"
   ]
  },
  {
   "cell_type": "code",
   "execution_count": 123,
   "metadata": {
    "collapsed": false
   },
   "outputs": [
    {
     "data": {
      "text/html": [
       "<div>\n",
       "<table border=\"1\" class=\"dataframe\">\n",
       "  <thead>\n",
       "    <tr style=\"text-align: right;\">\n",
       "      <th></th>\n",
       "      <th>mid</th>\n",
       "      <th>spread</th>\n",
       "      <th>bid</th>\n",
       "      <th>ask</th>\n",
       "    </tr>\n",
       "    <tr>\n",
       "      <th>datetime</th>\n",
       "      <th></th>\n",
       "      <th></th>\n",
       "      <th></th>\n",
       "      <th></th>\n",
       "    </tr>\n",
       "  </thead>\n",
       "  <tbody>\n",
       "    <tr>\n",
       "      <th>2015-01-01 23:59:55</th>\n",
       "      <td>157.090754</td>\n",
       "      <td>0.206379</td>\n",
       "      <td>156.987565</td>\n",
       "      <td>157.193944</td>\n",
       "    </tr>\n",
       "    <tr>\n",
       "      <th>2015-01-01 23:59:49</th>\n",
       "      <td>156.974985</td>\n",
       "      <td>0.071616</td>\n",
       "      <td>156.939177</td>\n",
       "      <td>157.010793</td>\n",
       "    </tr>\n",
       "    <tr>\n",
       "      <th>2015-01-01 23:59:45</th>\n",
       "      <td>156.999962</td>\n",
       "      <td>0.208395</td>\n",
       "      <td>156.895764</td>\n",
       "      <td>157.104159</td>\n",
       "    </tr>\n",
       "    <tr>\n",
       "      <th>2015-01-01 23:59:43</th>\n",
       "      <td>157.025385</td>\n",
       "      <td>0.153155</td>\n",
       "      <td>156.948807</td>\n",
       "      <td>157.101962</td>\n",
       "    </tr>\n",
       "    <tr>\n",
       "      <th>2015-01-01 23:59:39</th>\n",
       "      <td>156.977629</td>\n",
       "      <td>0.016801</td>\n",
       "      <td>156.969229</td>\n",
       "      <td>156.986030</td>\n",
       "    </tr>\n",
       "    <tr>\n",
       "      <th>2015-01-01 23:59:29</th>\n",
       "      <td>156.903222</td>\n",
       "      <td>0.010000</td>\n",
       "      <td>156.898222</td>\n",
       "      <td>156.908222</td>\n",
       "    </tr>\n",
       "    <tr>\n",
       "      <th>2015-01-01 23:59:21</th>\n",
       "      <td>156.932941</td>\n",
       "      <td>0.010000</td>\n",
       "      <td>156.927941</td>\n",
       "      <td>156.937941</td>\n",
       "    </tr>\n",
       "    <tr>\n",
       "      <th>2015-01-01 23:59:19</th>\n",
       "      <td>156.946665</td>\n",
       "      <td>0.022159</td>\n",
       "      <td>156.935586</td>\n",
       "      <td>156.957744</td>\n",
       "    </tr>\n",
       "    <tr>\n",
       "      <th>2015-01-01 23:59:17</th>\n",
       "      <td>156.739075</td>\n",
       "      <td>0.133618</td>\n",
       "      <td>156.672266</td>\n",
       "      <td>156.805884</td>\n",
       "    </tr>\n",
       "  </tbody>\n",
       "</table>\n",
       "</div>"
      ],
      "text/plain": [
       "                            mid    spread         bid         ask\n",
       "datetime                                                         \n",
       "2015-01-01 23:59:55  157.090754  0.206379  156.987565  157.193944\n",
       "2015-01-01 23:59:49  156.974985  0.071616  156.939177  157.010793\n",
       "2015-01-01 23:59:45  156.999962  0.208395  156.895764  157.104159\n",
       "2015-01-01 23:59:43  157.025385  0.153155  156.948807  157.101962\n",
       "2015-01-01 23:59:39  156.977629  0.016801  156.969229  156.986030\n",
       "2015-01-01 23:59:29  156.903222  0.010000  156.898222  156.908222\n",
       "2015-01-01 23:59:21  156.932941  0.010000  156.927941  156.937941\n",
       "2015-01-01 23:59:19  156.946665  0.022159  156.935586  156.957744\n",
       "2015-01-01 23:59:17  156.739075  0.133618  156.672266  156.805884"
      ]
     },
     "execution_count": 123,
     "metadata": {},
     "output_type": "execute_result"
    }
   ],
   "source": [
    "market_data[:-10:-1]"
   ]
  },
  {
   "cell_type": "code",
   "execution_count": 124,
   "metadata": {
    "collapsed": false
   },
   "outputs": [
    {
     "data": {
      "text/plain": [
       "<matplotlib.axes._subplots.AxesSubplot at 0x7f390e817450>"
      ]
     },
     "execution_count": 124,
     "metadata": {},
     "output_type": "execute_result"
    },
    {
     "data": {
      "image/png": "[encoded data removed]",
      "text/plain": [
       "<matplotlib.figure.Figure at 0x7f390f4b55d0>"
      ]
     },
     "metadata": {},
     "output_type": "display_data"
    }
   ],
   "source": [
    "market_data.bid.plot()\n",
    "market_data.ask.plot()"
   ]
  },
  {
   "cell_type": "code",
   "execution_count": 125,
   "metadata": {
    "collapsed": false
   },
   "outputs": [
    {
     "name": "stdout",
     "output_type": "stream",
     "text": [
      "Copyright 2015, Google, Inc.\n",
      "Licensed under the Apache License, Version 2.0 (the \"License\");\n",
      "you may not use this file except in compliance with the License.\n",
      "You may obtain a copy of the License at \n",
      "http://www.apache.org/licenses/LICENSE-2.0\n",
      "Unless required by applicable law or agreed to in writing, software\n",
      "distributed under the License is distributed on an \"AS IS\" BASIS,\n",
      "WITHOUT WARRANTIES OR CONDITIONS OF ANY KIND, either express or implied.\n",
      "See the License for the specific language governing permissions and\n",
      "limitations under the License.\n"
     ]
    }
   ],
   "source": [
    "print '''Copyright 2015, Google, Inc.\n",
    "Licensed under the Apache License, Version 2.0 (the \"License\");\n",
    "you may not use this file except in compliance with the License.\n",
    "You may obtain a copy of the License at \n",
    "http://www.apache.org/licenses/LICENSE-2.0\n",
    "Unless required by applicable law or agreed to in writing, software\n",
    "distributed under the License is distributed on an \"AS IS\" BASIS,\n",
    "WITHOUT WARRANTIES OR CONDITIONS OF ANY KIND, either express or implied.\n",
    "See the License for the specific language governing permissions and\n",
    "limitations under the License.'''"
   ]
  }
 ],
 "metadata": {
  "kernelspec": {
   "display_name": "Python 2",
   "language": "python",
   "name": "python2"
  },
  "language_info": {
   "codemirror_mode": {
    "name": "ipython",
    "version": 2
   },
   "file_extension": ".py",
   "mimetype": "text/x-python",
   "name": "python",
   "nbconvert_exporter": "python",
   "pygments_lexer": "ipython2",
   "version": "2.7.9"
  }
 },
 "nbformat": 4,
 "nbformat_minor": 0
}
